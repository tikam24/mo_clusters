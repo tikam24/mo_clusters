{
 "cells": [
  {
   "cell_type": "code",
   "execution_count": 2,
   "id": "46c2d3a2-7680-41f2-8982-dc0b29efd247",
   "metadata": {},
   "outputs": [],
   "source": [
    "import pandas as pd\n",
    "import matplotlib.pyplot as plt\n",
    "import numpy as np\n",
    "import openpyxl\n",
    "import seaborn as sns\n",
    "import ast\n",
    "\n",
    "from matplotlib import colors"
   ]
  },
  {
   "cell_type": "code",
   "execution_count": 3,
   "id": "4ada94cb-bb1d-4037-8242-f298a872adb7",
   "metadata": {},
   "outputs": [],
   "source": [
    "df = pd.read_excel('initial_database.xlsx')\n",
    "#print(df)"
   ]
  },
  {
   "cell_type": "markdown",
   "id": "7b5ac7e8-6da1-4e6c-9564-b75e4197f391",
   "metadata": {},
   "source": [
    "### Droping the unnecessary column"
   ]
  },
  {
   "cell_type": "code",
   "execution_count": 4,
   "id": "10e42b81-997b-46f2-989a-6a143e5c796e",
   "metadata": {},
   "outputs": [],
   "source": [
    "columns_to_drop = ['EID','Title','Journal','Specific Capacitance Unit',\n",
    "                  'Surface Area Unit','Energy Density Unit','Power Density Unit',\n",
    "                  'Voltage Unit','Current Density Unit','Cycles Unit','Current Density Value']\n",
    "df.drop(columns=columns_to_drop, inplace=True)"
   ]
  },
  {
   "cell_type": "markdown",
   "id": "c1f37f6c-88e2-43fa-be5e-4fea58a973b5",
   "metadata": {},
   "source": [
    "### Checking the NA values"
   ]
  },
  {
   "cell_type": "code",
   "execution_count": 5,
   "id": "c960f7f8-69ab-4cfe-af80-e84d87c36c7b",
   "metadata": {},
   "outputs": [],
   "source": [
    "columns_to_check = ['anode/positive electrode', 'cathode/negative electrode','electrolyte','Specific Capacitance Value']\n",
    "df = df.dropna(subset=columns_to_check)"
   ]
  },
  {
   "cell_type": "code",
   "execution_count": 6,
   "id": "6a44b2ed-ee8c-4265-9dc3-4559f20f127d",
   "metadata": {},
   "outputs": [],
   "source": [
    "df.to_excel(\"cleaned_data1.xlsx\", engine ='openpyxl', index = True)"
   ]
  },
  {
   "cell_type": "markdown",
   "id": "ebcb6bb2-4e78-4650-a234-068de6095b55",
   "metadata": {},
   "source": [
    "### Converting into numbers and taking the highest values"
   ]
  },
  {
   "cell_type": "code",
   "execution_count": 7,
   "id": "d7d79753-bd71-4239-935c-85359a61fc9e",
   "metadata": {},
   "outputs": [],
   "source": [
    "# Convert the numeric text into numbers\n",
    "def convert_to_numeric(value):\n",
    "    try:\n",
    "        return float(value)\n",
    "    except ValueError:\n",
    "        # If value cannot be converted directly to float, try splitting by comma and take the max\n",
    "        parts = value.split(',')\n",
    "        return max(float(part) for part in parts)"
   ]
  },
  {
   "cell_type": "code",
   "execution_count": 8,
   "id": "ab3eda3c-9d96-4f6e-bc2e-0803393a27f5",
   "metadata": {},
   "outputs": [],
   "source": [
    "df['Specific Capacitance Value'] = df['Specific Capacitance Value'].apply(convert_to_numeric)\n",
    "df['Surface Area Value'] = df['Surface Area Value'].apply(convert_to_numeric)\n",
    "df['Energy Density Value'] = df['Energy Density Value'].apply(convert_to_numeric)\n",
    "df['Power Density Value'] = df['Power Density Value'].apply(convert_to_numeric)\n",
    "df['Voltage Value'] = df['Voltage Value'].apply(convert_to_numeric)\n",
    "df['Cycles Value'] = df['Cycles Value'].apply(convert_to_numeric)"
   ]
  },
  {
   "cell_type": "code",
   "execution_count": 9,
   "id": "3475da22-fe17-45b4-ad3b-c58bb9a64768",
   "metadata": {},
   "outputs": [],
   "source": [
    "df.to_excel(\"cleaned_data2.xlsx\", engine ='openpyxl', index = True)"
   ]
  },
  {
   "cell_type": "code",
   "execution_count": null,
   "id": "ea5d63df-081c-4b5d-961c-145d9818b3e0",
   "metadata": {},
   "outputs": [],
   "source": []
  }
 ],
 "metadata": {
  "kernelspec": {
   "display_name": "Python 3 (ipykernel)",
   "language": "python",
   "name": "python3"
  },
  "language_info": {
   "codemirror_mode": {
    "name": "ipython",
    "version": 3
   },
   "file_extension": ".py",
   "mimetype": "text/x-python",
   "name": "python",
   "nbconvert_exporter": "python",
   "pygments_lexer": "ipython3",
   "version": "3.10.14"
  }
 },
 "nbformat": 4,
 "nbformat_minor": 5
}
