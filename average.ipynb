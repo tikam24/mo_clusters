{
 "cells": [
  {
   "cell_type": "code",
   "execution_count": 25,
   "id": "e4de726b-b9dd-4a9b-aaf7-447ab69870eb",
   "metadata": {},
   "outputs": [],
   "source": [
    "import pandas as pd\n",
    "import numpy as np"
   ]
  },
  {
   "cell_type": "code",
   "execution_count": 26,
   "id": "1ebb26cb-acce-4f46-b868-38d9aead8380",
   "metadata": {},
   "outputs": [
    {
     "data": {
      "text/html": [
       "<div>\n",
       "<style scoped>\n",
       "    .dataframe tbody tr th:only-of-type {\n",
       "        vertical-align: middle;\n",
       "    }\n",
       "\n",
       "    .dataframe tbody tr th {\n",
       "        vertical-align: top;\n",
       "    }\n",
       "\n",
       "    .dataframe thead th {\n",
       "        text-align: right;\n",
       "    }\n",
       "</style>\n",
       "<table border=\"1\" class=\"dataframe\">\n",
       "  <thead>\n",
       "    <tr style=\"text-align: right;\">\n",
       "      <th></th>\n",
       "      <th>DOI</th>\n",
       "      <th>electrode</th>\n",
       "      <th>Specific Capacitance (F/g)</th>\n",
       "      <th>Cycles</th>\n",
       "    </tr>\n",
       "  </thead>\n",
       "  <tbody>\n",
       "    <tr>\n",
       "      <th>0</th>\n",
       "      <td>10.1016/j.est.2023.108403</td>\n",
       "      <td>MnO2</td>\n",
       "      <td>288.50</td>\n",
       "      <td>5000</td>\n",
       "    </tr>\n",
       "    <tr>\n",
       "      <th>1</th>\n",
       "      <td>10.1016/j.est.2023.108316</td>\n",
       "      <td>ZnO</td>\n",
       "      <td>1001.50</td>\n",
       "      <td>1000</td>\n",
       "    </tr>\n",
       "    <tr>\n",
       "      <th>2</th>\n",
       "      <td>10.1016/j.materresbull.2023.112422</td>\n",
       "      <td>NiCeO2</td>\n",
       "      <td>603.00</td>\n",
       "      <td>1000</td>\n",
       "    </tr>\n",
       "    <tr>\n",
       "      <th>3</th>\n",
       "      <td>10.1016/j.est.2023.108146</td>\n",
       "      <td>Nb2O5</td>\n",
       "      <td>628.00</td>\n",
       "      <td>5000</td>\n",
       "    </tr>\n",
       "    <tr>\n",
       "      <th>4</th>\n",
       "      <td>10.1016/j.jcis.2023.06.003</td>\n",
       "      <td>MnO2</td>\n",
       "      <td>595.77</td>\n",
       "      <td>1000</td>\n",
       "    </tr>\n",
       "  </tbody>\n",
       "</table>\n",
       "</div>"
      ],
      "text/plain": [
       "                                  DOI electrode  Specific Capacitance (F/g)  \\\n",
       "0           10.1016/j.est.2023.108403      MnO2                      288.50   \n",
       "1           10.1016/j.est.2023.108316       ZnO                     1001.50   \n",
       "2  10.1016/j.materresbull.2023.112422    NiCeO2                      603.00   \n",
       "3           10.1016/j.est.2023.108146     Nb2O5                      628.00   \n",
       "4          10.1016/j.jcis.2023.06.003      MnO2                      595.77   \n",
       "\n",
       "   Cycles  \n",
       "0    5000  \n",
       "1    1000  \n",
       "2    1000  \n",
       "3    5000  \n",
       "4    1000  "
      ]
     },
     "execution_count": 26,
     "metadata": {},
     "output_type": "execute_result"
    }
   ],
   "source": [
    "df = pd.read_excel('final.xlsx')\n",
    "df.head()"
   ]
  },
  {
   "cell_type": "code",
   "execution_count": 35,
   "id": "59fd31d2-c4e5-4a22-b961-8ada02aa87da",
   "metadata": {},
   "outputs": [
    {
     "data": {
      "text/html": [
       "<div>\n",
       "<style scoped>\n",
       "    .dataframe tbody tr th:only-of-type {\n",
       "        vertical-align: middle;\n",
       "    }\n",
       "\n",
       "    .dataframe tbody tr th {\n",
       "        vertical-align: top;\n",
       "    }\n",
       "\n",
       "    .dataframe thead th {\n",
       "        text-align: right;\n",
       "    }\n",
       "</style>\n",
       "<table border=\"1\" class=\"dataframe\">\n",
       "  <thead>\n",
       "    <tr style=\"text-align: right;\">\n",
       "      <th></th>\n",
       "      <th>0</th>\n",
       "    </tr>\n",
       "  </thead>\n",
       "  <tbody>\n",
       "    <tr>\n",
       "      <th>1D-RuO2/C</th>\n",
       "      <td>671.000000</td>\n",
       "    </tr>\n",
       "    <tr>\n",
       "      <th>3D-MnO2</th>\n",
       "      <td>370.000000</td>\n",
       "    </tr>\n",
       "    <tr>\n",
       "      <th>60-MnO2</th>\n",
       "      <td>337.000000</td>\n",
       "    </tr>\n",
       "    <tr>\n",
       "      <th>Al2O3</th>\n",
       "      <td>968.000000</td>\n",
       "    </tr>\n",
       "    <tr>\n",
       "      <th>Bi2O3</th>\n",
       "      <td>574.640000</td>\n",
       "    </tr>\n",
       "    <tr>\n",
       "      <th>...</th>\n",
       "      <td>...</td>\n",
       "    </tr>\n",
       "    <tr>\n",
       "      <th>γ-Fe2O3 NH</th>\n",
       "      <td>1800.060000</td>\n",
       "    </tr>\n",
       "    <tr>\n",
       "      <th>γ-MnO2-PANI-CP</th>\n",
       "      <td>642.500000</td>\n",
       "    </tr>\n",
       "    <tr>\n",
       "      <th>δ-MnO2</th>\n",
       "      <td>419.266667</td>\n",
       "    </tr>\n",
       "    <tr>\n",
       "      <th>δ-MnO2 HMS</th>\n",
       "      <td>216.400000</td>\n",
       "    </tr>\n",
       "    <tr>\n",
       "      <th>ε-MnO2</th>\n",
       "      <td>334.500000</td>\n",
       "    </tr>\n",
       "  </tbody>\n",
       "</table>\n",
       "<p>182 rows × 1 columns</p>\n",
       "</div>"
      ],
      "text/plain": [
       "                          0\n",
       "1D-RuO2/C        671.000000\n",
       "3D-MnO2          370.000000\n",
       "60-MnO2          337.000000\n",
       "Al2O3            968.000000\n",
       "Bi2O3            574.640000\n",
       "...                     ...\n",
       "γ-Fe2O3 NH      1800.060000\n",
       "γ-MnO2-PANI-CP   642.500000\n",
       "δ-MnO2           419.266667\n",
       "δ-MnO2 HMS       216.400000\n",
       "ε-MnO2           334.500000\n",
       "\n",
       "[182 rows x 1 columns]"
      ]
     },
     "execution_count": 35,
     "metadata": {},
     "output_type": "execute_result"
    }
   ],
   "source": [
    "df1 = df.groupby(['electrode'])['Specific Capacitance (F/g)'].mean().to_dict()\n",
    "df1 = pd.DataFrame.from_dict(df1, orient='index')\n",
    "df1.to_excel(\"sc.xlsx\", engine ='openpyxl', index = True)\n",
    "df1"
   ]
  },
  {
   "cell_type": "code",
   "execution_count": 31,
   "id": "e8607655-3afc-4a74-9ada-8de7b40b31de",
   "metadata": {},
   "outputs": [],
   "source": [
    "df2 = df.groupby(['electrode'])['Cycles'].mean().to_dict()\n",
    "df2 = pd.DataFrame.from_dict(df2, orient='index')\n",
    "df2.to_excel(\"cycles.xlsx\", engine ='openpyxl', index = True)"
   ]
  },
  {
   "cell_type": "code",
   "execution_count": 36,
   "id": "985fccc6-76a8-4f1b-a220-4af8ee8dc3ca",
   "metadata": {},
   "outputs": [],
   "source": [
    "merged_df = pd.merge(df1, df2, left_index=True, right_index=True, how='inner')"
   ]
  },
  {
   "cell_type": "code",
   "execution_count": 38,
   "id": "cf46fae8-a8f9-4bea-b2ca-0e954c03b4d8",
   "metadata": {},
   "outputs": [],
   "source": [
    "merged_df\n",
    "merged_df.to_excel(\"merged.xlsx\", engine ='openpyxl', index = True)"
   ]
  },
  {
   "cell_type": "code",
   "execution_count": null,
   "id": "d11a072e-a82f-41bf-bc80-795e2696efaa",
   "metadata": {},
   "outputs": [],
   "source": []
  }
 ],
 "metadata": {
  "kernelspec": {
   "display_name": "Python 3 (ipykernel)",
   "language": "python",
   "name": "python3"
  },
  "language_info": {
   "codemirror_mode": {
    "name": "ipython",
    "version": 3
   },
   "file_extension": ".py",
   "mimetype": "text/x-python",
   "name": "python",
   "nbconvert_exporter": "python",
   "pygments_lexer": "ipython3",
   "version": "3.10.14"
  }
 },
 "nbformat": 4,
 "nbformat_minor": 5
}
