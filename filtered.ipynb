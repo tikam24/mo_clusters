{
 "cells": [
  {
   "cell_type": "code",
   "execution_count": 21,
   "id": "ca09d2f4-c2b2-40f8-a6eb-10faf36796fc",
   "metadata": {},
   "outputs": [],
   "source": [
    "import pandas as pd\n",
    "import json\n",
    "import os"
   ]
  },
  {
   "cell_type": "code",
   "execution_count": 22,
   "id": "e9a03a05-de41-4d12-8eb8-2adb1dbfddba",
   "metadata": {},
   "outputs": [],
   "source": [
    "folder_path = 'mo/'"
   ]
  },
  {
   "cell_type": "code",
   "execution_count": 23,
   "id": "f011b974-9386-4065-8b5d-12ffab997b4f",
   "metadata": {},
   "outputs": [
    {
     "name": "stdout",
     "output_type": "stream",
     "text": [
      "['Ag2O.json', 'Al2O3.json', 'Bi2O3.json', 'CdO.json', 'CeO2.json', 'Co3O4.json', 'CoO.json', 'Cr2O3.json', 'Cu2O.json', 'CuO.json', 'Fe2O3.json', 'Fe3O4.json', 'In2O3.json', 'IrO2.json', 'La2O3.json', 'MgO.json', 'Mn2O3.json', 'Mn3O4.json', 'MnO2.json', 'MoO3.json', 'Nb2O5.json', 'Nd2O3.json', 'NiO.json', 'PbO2.json', 'RuO2.json', 'SiO2.json', 'Sm2O3.json', 'SnO2.json', 'Ta2O5.json', 'TiO2.json', 'V2O3.json', 'V2O5.json', 'VO2.json', 'WO3.json', 'ZnO.json', 'ZrO2.json']\n"
     ]
    },
    {
     "data": {
      "text/plain": [
       "36"
      ]
     },
     "execution_count": 23,
     "metadata": {},
     "output_type": "execute_result"
    }
   ],
   "source": [
    "# List all files in the folder\n",
    "files = os.listdir(folder_path)\n",
    "print(files)\n",
    "len(files)"
   ]
  },
  {
   "cell_type": "code",
   "execution_count": 24,
   "id": "512c8790-ce58-454e-8bc4-62fdb4187cab",
   "metadata": {},
   "outputs": [],
   "source": [
    "df = pd.read_excel('symmetric.xlsx')\n",
    "#print(df)"
   ]
  },
  {
   "cell_type": "code",
   "execution_count": 32,
   "id": "1d3dd486-38ee-4e9d-9c79-97918381549a",
   "metadata": {},
   "outputs": [],
   "source": [
    "mo_list = []\n",
    "# Iterate through each file\n",
    "for file_name in files:\n",
    "    if os.path.isfile(os.path.join(folder_path, file_name)):\n",
    "        # Load JSON file         \n",
    "        with open(os.path.join(folder_path, file_name), 'r') as f:\n",
    "            data = json.load(f)\n",
    "        mo_list = mo_list+data"
   ]
  },
  {
   "cell_type": "code",
   "execution_count": 34,
   "id": "c4cbb45c-b7b0-48a1-954a-a0c681e895ca",
   "metadata": {},
   "outputs": [
    {
     "name": "stdout",
     "output_type": "stream",
     "text": [
      "['Ag2O', 'Ag2O NPs', 'Ag2O-Ag', 'n-Ag2OPPy', 'Al2O3', 'Bi2O3', 'Bi2O3-MnO2', 'Bi2O3-Ni-F', 'Bi2O3-GO NC', 'Bi-Bi2O3', 'α-Bi2O3-ZnO', 'h-Bi2O3', 'CdO', 'CuZnCdO', 'CeO2', 'Ni-CeO2', 'C-CeO2', 'Gr-CeO2', 'NiO-CeO2 binary oxide', 'CeO2-Cu2O', 'Co-CeO2', 'CeO2-150', 'NiCeO2', 'd-Ti3CN@NiCeO2', 'CeO2-PANI', 'Fe-CeO2-500', 'CeO2micro rice', 'Co3O4', 'R-Co3O4', 'Co-Co3O4', 'Co3O4-NiO', 'Hollow Co3O4', 'Co3O4-PANI', 'Mn2O3/C@Co3O4', 'structures(HoMSs) Co3O4', 'Co3O4 nanowire', 'Sm-Co3O4', 'Co3O4-CuO-MnO2', 'rGO-Co3O4', 'Superthin Co3O4', 'Co3O4@C@MnO2', 'α-Co/Ni(OH)2@Co3O4', 'CoNiO2@Co3O4', 'Co3O4 NW-F', 'Co(OH)2 - Co3O4', 'Co3O4nanofilms', 'f-Co3O4', 'Co3O4nanosheets', 'SnO2-Co3O4', 'layered Co3O4', '210-Co3O4', 'RT-Co3O4', 'hollow Co3O4', 'ZIF-67 oxide Co3O4', 'Co3O4-MnO2', 'Co3O4 NCs', 'PVA-GQD-Co3O4', 'Co3O4-MnO2-NiO', 'mesoporous Co3O4', 'Co3O4 nanoflakes', 'hexagonal Co3O4', 'Rhombus Co3O4', 'Ov-Co3O4', 'CF-10Co3O4', 'S-Co3O4', 'Al-Co3O4', 'Co3O4-VG-CC', 'PDJA-Co3O4', 'Co3O4 NWAS', 'Co3O4 nanoribbon', 'Co3O4-GC', 'Co3O4−CuO', 'NiCoO2@Co3O4', 'PANI-Co3O4', 'D-Co3O4||D-Co3O4', 'Co3O4nanoflakesviathe', 'm-Co3O4', 'Co3O4-Graphene nano-composite', 'P-Co3O4-ns', 'Co3O4-60', 'S-ZIF-Co3O4', 'ZnO-Co3O4', 'MWCNTs-ZrO2-Co3O4', 'D-Co3O4@Ni', 'Cl-Co3O4-h', 'L-Co3O4', 'P-Co3O4', 'spinel Co3O4', 'Co3O4-rGO', 'N-Co3O4', 'NiO-Co3O4', 'CoO', 'NiCoO2', 'LiCoO2', 'CoOx', 'CoOOH', 'LaCoO3', 'CoO-rGO', 'CoO@MnO2', 'NiO-CoO', 'La0.7Sr0.3CoO3', 'C–NiCoO NFs', 'ZnCoO-G', 'Ni,CoOH-rGO', 'LixCoO2', 'NiCoO4', 'CoOOH–Co(OH)2', 'NRGO-NiCoO2', 'CoO nanocubes', 'SrCoO2.5', 'NiCoO2/rGO', 'Fe 2 O 3 @LiCoO 2', 'MnNiCoO4', 'CoO nano-cubes', 'BiCoO3', 'La0.7Sr0.3CoO3−δ', 'NiCoOx', 'NiCoO', 'N-CoOx', 'Na0.6CoO2', 'NiCoO2@N-C', 'NiCo2O4-CoO', 'NiCoOxNy', 'Ni-NMO-rGO-CoO', 'Sr(OH)2/CoO(OH)', 'Co-CoOx', 'CoOS-C', 'NiCoO2@Co3O4', 'Z-CoO/RGO', 'C/N-CoO@CoO', 'CoO-C', 'CoO@Ni(OH)2', 'NiCoO@', 'CoO-GHBs', 'Sr2FeCoO6-δ', '3D-CoO-NrGO', 'CuCoO2', 'Cr2O3', 'Cr2O3-graphene oxide', 'Cr2O3-C nanoplates', 'Cr2O3-MoO2', 'Cu2O', 'CuO-Cu2O', 'Cu2O-Cu1.8S', 'K-SrCu2O2', 'CeO2-Cu2O', 'CaCu2O3', 'Cu2O NO', 'CuO', 'CuO@MnO2', 'CuOx', 'CuO-Cu2O', 'CuO@MnO2-rGO', 'Co3O4-CuO-MnO2', 'Cu 2 O-CuO/rGO1', 'macroCuO', 'CuO-PANI-rGO', 'CuO NSs', 'CuO–G', 'CuOAC1', 'CuO NPs', 'CuO(x)NiO', 'Co3O4−CuO', 'textured CuO', 'CuO–Ni', 'MnO2–CuO', 'CuO-AC', 'Fe2O3', 'α-Fe2O3', 'γ-Fe2O3', 'Fe2O3 nanocubes', 'S-α-Fe2O3', 'CMK-3-P-Fe2O3', 'Cu2−xO-αFe2O3', 'Fe2O3–Ni(OH)2', 'α- Fe2O3/rGO', 'porous α-Fe2O3', 'Fe2O3-graphene', 'Ni(OH)2@α-Fe2O3', 'γ-Fe2O3 NH', 'rGO-Fe2O3', 'Hematite α-Fe2O3', 'F-Fe2O3 anode', 'P-Fe2O3', 'N-Fe2O3', 'Fe2O3@N-C', 'MoO3-Fe2O3', 'Fe2O3-IrO2as', 'alpha-Fe2O3', 'graphene oxide-Fe2O3', 'oxygen vacancy-Fe2O3@polyaniline', 'Fe3O4', 'Fe3O4-rGO-MoO3', 'Fe3O4 NPs', 'CNT-Fe3O4-PANI', 'Fe3O4-graphene', 'C-C-Fe3O4', 'iron oxide (Fe3O4)', 'Fe3O4-SWCNH nanocomposite', 'Fe3O4@C@MnO2', 'graphene-Fe3O4-polyaniline', 'P-Fe3O4', 'MWCNTs-COOH-Fe3O4', 'Fe3O4-IL-W', 'Mn3O4-Fe3O4', 'Fe3O4-PPy', 'Cu-Fe3O4@ CeOHCO3', 'rGO-Fe3O4', 'Fe3O4-MCNTs', 'In2O3', 'pseudo-cubic In2O3', 'SnO2-In2O3', 'IrO2', 'IrO2-SnO2', 'IrO2-Ta2O5', 'IrO2[sbnd]SnO2', 'Fe2O3-IrO2as', 'La2O3', 'La2O3-ZnO', 'La2O3-C60', 'MgO', 'PACN-MgO-700', 'NiMgOH-rGO', 'Mn2O3', 'α-Mn2O3', 'Mn2O3/C@Co3O4', 'NZnO–Mn2O3', 'MnO2-Mn2O3', 'Mn2O3-SnO2', '3D-rhombohedral Mn2O3', 'NiO-Mn2O3', 'porous Mn2O3', 'Mn3O4', 'Mn3O4-carbon', 'Mn3O4-polyaniline', 'Mn3O4 nanoframework', 'HCS-Mn3O4-5', 'Mn3O4-rGO', 'hausmannite Mn3O4', 'Mn3O4-CNTs', 'Mn3O4nanoparticles', 'β-Mn3O4', 'Mn3O4-graphene NCs', 'Mn3O4-Fe3O4', 'Mn3O4 NPs', 'Mn3O4 nanowalls', 'Mn3O4–SnO2', 'Mn3O4hybrid', 'Mn3O4 supercapacitor', 'α-Mn3O4', 'MnO2', 'α-MnO2', 'δ-MnO2', 'γ-MnO2', 'β-MnO2', 'CuO@MnO2', 'MnO2 nanosheets', 'KxMnO2', 'NiCo2S4@MnO2', 'MnO2 nanostructures', 'Ni-MnO2', 'MnO2-carbon nanotube', 'MnO2-3', 'MnO2 nanoflakes', 'MnO2-graphene', 'Co-MnO2', 'CoO@MnO2', 'MnO2composite', 'CuMnO2', 'CoMnO2', 'Mesoporous MnO2', 'MnO2-2', 'ε-MnO2', 'birnessite MnO2', 'Na-MnO2', 'K0.6MnO2', 'CuO@MnO2-rGO', 'Co2(OH)3Cl-MnO2-2', 'NaxKyMnO2', 'rGO-CNC-MnO2', 'MnO2 nanotube', 'KF@MnO2', 'Na0.9MnO2', 'MnO2-800', 'Co3O4-CuO-MnO2', 'ZnCo2O4-MnO2', 'PGM|PMnO2', '1La3Ce−MnO2', 'Co3O4@C@MnO2', 'MnO2 nanosheet', 'NaMnO2-x', 'Ni(OH)2@MnO2', 'MnO2-X', 'CuMnO2-rGO', 'MnO2-NT', 'Bi2O3-MnO2', '10-MnO2', 'ordered MnO2-Graphene', 'alpha-MnO2', 'MnO2-PPy', 'C–MnO2', 'L-AC@MnO2', 'm-MnO2 nanosheets', 'MgCo2O4@MnO2', 'ZnWO4–MnO2', 'FeMoO4 @MnO2', 'CuMnO2-gCN', 'MnO23', 'MnO2 nanowire', 'α-MnO2 nanotube', 'Co 3O4@MnO2', 'MnO2 -MWCNT', 'MnO2 nanoplatelets', 'TiO 2@MnO2', 'NiCo2O4-MnO2 NWs', 'mesoporous MnO2', 'MnO2-graphene gel', 'GO-DE@MnO2', 'Co2AlO4@MnO2', 'MnO2-carbon', 'MnO2(2.5)', 'MnO2was', 'MnO2 nanoflower', 'MEGO-MnO2', 'KB-MnO2-37', 'MnO2 nanotubes', 'MnCo2O4@MnO2', 'GHCS-MnO2', 'α-MnO2·nH2O', 'MnO2 nano-powder', 'a-MnO2', 'α-MnO2 · nH2O', 'Hydrous nano-MnO2', 'MnO2·xH2O', 'MnO2-AC', 'ε - MnO2', 'carbon-MnO2', 'MnO2-N', 'λ-MnO2', '60-MnO2', 'graphene-MnO2-polyaniline', 'silicon carbide-MnO2', 'ZnOAuMnO2', 'H-TiO 2@MnO2', 'MnO2 nanoneedles', 'Graphene-MnO2', 'Nax MnO2', 'MnO2 spheres', 'Fe3O4@C@MnO2', 'PVA-GO-MnO2', 'CoMoO4-MnO2', 'MnO2 membrane', 'manganese oxide (MnO2)', 'MnO2 nanograsses', 'GO-MnO2', 'MnO2 nanofibers', 'graphene-MnO2 nanocomposite', 'Na+-MnO2', 'Co3O4-MnO2', 'MnMoO4·H2O@MnO2', 'δ-MnO2 HMS', 'Sn-MnO2', 'MnO2film', 'MnO2[sbnd]TiO2', 'MnO2nanowires', 'α-NiMoO4@δ-MnO2', 'NiCo2O4-MnO2', 'NwMnO2', 'Co3O4-MnO2-NiO', 'MnO2-Mn2O3', 'G-MnO2', 'K-birnassite MnO2', '3D-DG@MnO2', 'CoMoO4@C@MnO2', 'MnO2-GM-Ni', 'β-MnO2δ-MnO2', 'MnO2-NHCS', 'α-MnO2·0.3H2O', 'Ni-Co@MnO2', 'α-MnO2 cryptomelane', 'ultrathin MnO2', 'nanocystalline MnO2', 'MnO2-TiN', 'Na0.5MnO2', 'Ni(OH)2and MnO2intercalated', 'PR-Fe@MnO2', 'N/C@MnO2', 'MnO2 cathode', 'Zn-MnO2battery', 'Naxδ-MnO2', 'Then MnO2', 'FeCo2O4@MnO2', 'MnO2-Pc', 'MnO2-K', 'P-MnO2', 'CF−Ni(OH)2-MnO2', 'Zn||MnO2', 'm-MnO2', 'CuMnO2-MnxOy', 'MnO2-f', 'NiGa2O4@MnO2', 'α-MnO2nanoparticles', 'MnCo2O4.5@MnO2', 'CS-MnO2-10', 'PANI-γMnO2-Au', 'UN-MnO2', 'N+MnO2', 'MnO2–CuO', 'MnO2 microsphere', '3D-MnO2', 'MnO2 microfiber', 'Fe-MnO2', 'M-MnO2/rGO', 'MnO2 nano-spheres', 'MnO2-30', 'V2O5-MnO2', 'Ni(OH)2-MnO2-rGO', 'oxide MnO2', 'N-MnO2', 'Li-MnO2', 'Ag2-MnO2', 'K-MnO2', 'NaxMnO2', 'γ-MnO2-PANI-CP', 'PPy-MnO2-CC', 'nanoporous MnO2-Cu', 'MoS2−MnO2', 'CGS-MnO2', 'MoO3', 'α-MoO3', 'Fe3O4-rGO-MoO3', 'MoO3-x', 'MoO3-rGO', 'Ultrathin MoO3', 'K+ preintercalated hydrogenated MoO3', 'MoO3-graphene', 'orthorhombic MoO3', 'MoO3−x', 'h-MoO3', 'CoMoO3', 'MoO3-Fe2O3', 'BiMoO3', 'MoO3-MC-SiO2-PANI', 'Nb2O5', 'Orthorhombic Nb2O5', 'Nb2O5-RGO', 'CAF-Nb2O5', 'α-Nb2O5', 'm-Nb2O5-C anode', 'T-Nb2O5/C', 'orthorhombic Nb2O5', 'T-Nb2O5', 'L-Nb2O5', 'Nb2O5-TiO2', 'n-Nb2O5-n-GQD-G', 'Nd2O3', 'NiO', 'NiOx', 'CoNiO2', 'LaNiO3', 'NiO-CoO', 'Co3O4-NiO', 'CoNiO 2', 'M-NiO-G', 'NiZn2O4-NiO NFAs', 'NiO-decorated ITO', 'NiO-ZnO', 'CoNiO2@Co3O4', 'NiO-350', 'NiO-NiCo2O4', 'Co2NiO4', 'CuNiO2', 'NiO-Co3(VO4)2', 'Ni(OH)2·NiOOH', 'NiO-graphene', 'Co 3 O 4 /NiO', 'NiO x', 'Co 3O 4/NiO', 'Co 3O 4-NiO', 'NiOOH2-x', 'B-NiO', 'Nanocrystalline NiO', 'NiO-CeO2 binary oxide', 'NiOx(OH)y', 'perovskite LaNiO3 oxide', 'NiCo 2 S 4 @NiO', 'NiO-HMNAs', 'Mn2NiO4', 'Co3O4-MnO2-NiO', 'NiO nanopyramid', 'SnO[sbnd]NiO', 'Pd/NiOPdO', 'NiOOH', 'NiCo(OH)4-NiO', 'La1-xNdxNiO3', 'NiO-Mn2O3', 'CuCoNiO4', 'NiO nanosheet', 'NiO2-CuHCF', 'β-NiO', 'NiO-MnXOY', 'CeNiO3', 'CuO(x)NiO', 'V6O11@Ni(OH)2/NiOOH', 'MgNiO2', 'NiO-TiO2', 'flowerlike NiO', 'NCo2O4@Ni(OH)2/NiOOH', 'NiO-porous carbon', 'xNiO-(1-x)SiO2', 'urchinlike NiO', 'NiO-Co3O4', 'PbO2', 'F-PbO2', 'RuO2', 'RuO2·xH2O', 'hydrous RuO2', 'RuO2-Ta2O5', 'ruthenium oxide (RuO2)', 'RuO2·H2O cathode', 'RuO2·nH2O', 'SnO2-RuO2', 'RuO2-HfO2', 'H-RuO2', 'h-RuO2', 'RuO2-60', 'RuO2-P-rGO', '1D-RuO2/C', 'H–RuO2NPs', 'AD-RuO2-Trp-GQD-G', 'hRuO2', 'GeP5@RuO2', 'RuO2-V2O5', 'SiO2', 'C-SiO2', 'ZrO2-SiO2', 'SiO2-Carbon', 'SiO2-bis(aminopyridine)-Cu', 'MoO3-MC-SiO2-PANI', 'xNiO-(1-x)SiO2', 'Sm2O3', 'SnO2', 'SnO2-PG', 'SnO2− x@', 'IrO2-SnO2', 'graphene-SnO2-polyaniline', 'SnO2film', 'SnO2-Co3O4', 'SnO2·XH2O', 'SnO2-RuO2', 'SnO2 QDs', 'tin oxide (SnO2)', 'IrO2[sbnd]SnO2', 'Mn2O3-SnO2', 'SnO2-In2O3', 'NiSnO2', 'SnO2 NPs', 'SnO2particles', 'Mn3O4–SnO2', 'graphene oxide-SnO2', 'SnO2nanosheets', 'N-SnO2', 'Ta2O5', 'RuO2-Ta2O5', 'IrO2-Ta2O5', 'TiO2', 'TiO2 nanotubes', 'P-TiO2-MRs', 'TiO2-C', 'PEDOT-TiO2-15-rGO', 'TiO2 nanotube', 'PANI-APTES-TiO2 NTA', 'graphene-TiO2', 'Hydrogenated TiO2', 'r-TiO2', 'MnO2[sbnd]TiO2', 'TiO2nanoparticles', 'TiO2-A', 'TiO2-x', 'TiO2 nanofiber', 'Nb2O5-TiO2', 'TiO2-30', 'TiO2-4', 'TiO2 nanofibers', 'TiO2-Zn', 'CC-TiO2-MoO2', 'CoPc-TiO2', 'NiO-TiO2', 'TiO2-NiCo2S4', 'TiO2−VO', 'TiO2-carbon', 'V2O3', 'V2O5', 'Vö-V2O5', 'α-V2O5', 'V2O5-NW-G', 'V2O5 Nanobricks', 'Au-V2O5', 'Nanocrystalline V2O5', 'V2O5-PPy', 'a-V2O5·nH2O', 'V2O5-1MNa', 'MgV2O5', 'BVO-V2O5', 'V2O5-BiVO4', 'orthorhombic V2O5', 'V2O5-PANi', 'GE-V2O5Ni', 'Mesoporous V2O5', 'V2O5-MnO2', 'V2O5.nH2O', 'RuO2-V2O5', 'VO2', 'VO2(B)', 'ellipsoidal VO2', '1-LP VO2', 'TiLaVO2', 'WO3', 'h-WO3', 'WO3·H2O', 'h-WO3·nH2O', 'urchinlike WO3', 'Hexagonal WO3', 'WO3.zH2O', 'Co-WO3', 'WO3·2H2O', 'layered WO3', 'RGO+ nano-WO3', 'tungsten oxide (WO3)', 'CsxWO3', 'WO3·0.5H2O', 'MWCNTs-WO3-graphite', 'ZnO', 'Graphene-ZnO', 'graphene-ZnO', 'NiO-ZnO', 'NZnO–Mn2O3', 'ZnO-12h', 'ZnOx', 'n-ZnO', 'ZnOAuMnO2', 'ZnO tetrapods', 'CH-GO-ZnO', 'Doped ZnO', 'α-Bi2O3-ZnO', 'La2O3-ZnO', 'ZnONR', 'ZnO-Co3O4', 'PANI-RGO-ZnO', 'rGO-Dy2WO6-ZnO', 'MnZnO3', 'ZrO2', 'ZrO2-SiO2', 'ZnFe2O4-ZrO2', 'MWCNTs-ZrO2-Co3O4', 'CNF-20ZrO2']\n"
     ]
    },
    {
     "data": {
      "text/plain": [
       "656"
      ]
     },
     "execution_count": 34,
     "metadata": {},
     "output_type": "execute_result"
    }
   ],
   "source": [
    "print(mo_list)\n",
    "len(mo_list)"
   ]
  },
  {
   "cell_type": "code",
   "execution_count": 35,
   "id": "3f4a237a-d87a-4abb-bc3b-ccc58d143372",
   "metadata": {},
   "outputs": [],
   "source": [
    "filtered_df = df[df['anode/positive electrode'].isin(mo_list)]"
   ]
  },
  {
   "cell_type": "code",
   "execution_count": 36,
   "id": "b47ac697-a02f-4c52-8afa-61438b195c8e",
   "metadata": {},
   "outputs": [
    {
     "name": "stdout",
     "output_type": "stream",
     "text": [
      "       Unnamed: 0                 EID  \\\n",
      "1               1  2-s2.0-85164280131   \n",
      "2               2  2-s2.0-85163550064   \n",
      "6               6  2-s2.0-85156237721   \n",
      "13             13  2-s2.0-85165228498   \n",
      "20             20  2-s2.0-85164983927   \n",
      "...           ...                 ...   \n",
      "28239       28239   2-s2.0-0035542132   \n",
      "28251       28251   2-s2.0-0035517015   \n",
      "28255       28255   2-s2.0-0034298186   \n",
      "28260       28260   2-s2.0-0041687836   \n",
      "28261       28261   2-s2.0-0003090222   \n",
      "\n",
      "                                                   Title  \\\n",
      "1      Interwoven of γ-MnO2 and V2O5 nanostructures w...   \n",
      "2      Facile synthesis of Co3O4@SeNPs grafted MWCNTs...   \n",
      "6      Binder-free NiO/CuO hybrid structure via ULPIN...   \n",
      "13     Co-precipitation synthesis of pseudocapacitive...   \n",
      "20     Oxygen vacancy-enriched bilayer flower-like st...   \n",
      "...                                                  ...   \n",
      "28239  RuO2 sputtered thin film supercapacitor's perf...   \n",
      "28251  Electrochemical characteristics of cobalt oxid...   \n",
      "28255  In situ Ru K-edge X-ray absorption fine struct...   \n",
      "28260  Development of supercapacitors based on carbon...   \n",
      "28261  Ideal Supercapacitor Behavior of Amorphous V2O...   \n",
      "\n",
      "                                                 Journal  \\\n",
      "1                                                   Fuel   \n",
      "2                                Chemical Physics Impact   \n",
      "6                                     Scientific Reports   \n",
      "13                             Journal of Energy Storage   \n",
      "20                             Journal of Energy Storage   \n",
      "...                                                  ...   \n",
      "28239             Journal of the Korean Physical Society   \n",
      "28251                                   Electrochemistry   \n",
      "28255                    Journal of Physical Chemistry B   \n",
      "28260  Science in China, Series E: Technological Scie...   \n",
      "28261                   Journal of Solid State Chemistry   \n",
      "\n",
      "                                   DOI anode/positive electrode  \\\n",
      "1           10.1016/j.fuel.2023.129167                   γ-MnO2   \n",
      "2          10.1016/j.chphi.2023.100253                    Co3O4   \n",
      "6           10.1038/s41598-023-34274-w                      CuO   \n",
      "13           10.1016/j.est.2023.108403                     MnO2   \n",
      "20           10.1016/j.est.2023.108316                      ZnO   \n",
      "...                                ...                      ...   \n",
      "28239                              NaN                     RuO2   \n",
      "28251  10.5796/electrochemistry.69.848                     CoOx   \n",
      "28255                10.1021/jp002355a                     RuO2   \n",
      "28260               10.1007/BF02916888                RuO2·xH2O   \n",
      "28261           10.1006/jssc.1999.8367              a-V2O5·nH2O   \n",
      "\n",
      "                          electrolyte Specific Capacitance Value  \\\n",
      "1                                 NaN                        NaN   \n",
      "2                              carbon                        356   \n",
      "6                                 NaN                        NaN   \n",
      "13                                PVA                      288.5   \n",
      "20                                KOH                     1001.5   \n",
      "...                               ...                        ...   \n",
      "28239  lithium phosphorous oxynitride                        NaN   \n",
      "28251                             PVA                   192, 450   \n",
      "28255                           H2SO4                        NaN   \n",
      "28260                             NaN                        600   \n",
      "28261                        mild KCl                        290   \n",
      "\n",
      "      Specific Capacitance Unit Surface Area Value  ... Energy Density Value  \\\n",
      "1                           NaN                NaN  ...                  NaN   \n",
      "2                           F/g                NaN  ...                  NaN   \n",
      "6                           NaN                NaN  ...                  NaN   \n",
      "13                          F/g                NaN  ...                  NaN   \n",
      "20                          F/g                NaN  ...                  NaN   \n",
      "...                         ...                ...  ...                  ...   \n",
      "28239                       NaN                NaN  ...                  NaN   \n",
      "28251                       F/g                NaN  ...                  NaN   \n",
      "28255                       NaN                NaN  ...                  NaN   \n",
      "28260                       F/g                NaN  ...                  NaN   \n",
      "28261                       F/g                NaN  ...                  NaN   \n",
      "\n",
      "      Energy Density Unit Power Density Value Power Density Unit  \\\n",
      "1                     NaN                 NaN                NaN   \n",
      "2                     NaN                 NaN                NaN   \n",
      "6                     NaN                 NaN                NaN   \n",
      "13                    NaN                 NaN                NaN   \n",
      "20                    NaN                 NaN                NaN   \n",
      "...                   ...                 ...                ...   \n",
      "28239                 NaN                 NaN                NaN   \n",
      "28251                 NaN                 NaN                NaN   \n",
      "28255                 NaN                 NaN                NaN   \n",
      "28260                 NaN                 NaN                NaN   \n",
      "28261                 NaN                 NaN                NaN   \n",
      "\n",
      "      Voltage Value Voltage Unit Current Density Value Current Density Unit  \\\n",
      "1              1.50            V                   NaN                  NaN   \n",
      "2               NaN          NaN                   NaN                  NaN   \n",
      "6               NaN          NaN                   NaN                  NaN   \n",
      "13                2            V                   NaN                  NaN   \n",
      "20              NaN          NaN                   NaN                  NaN   \n",
      "...             ...          ...                   ...                  ...   \n",
      "28239           NaN          NaN                   NaN                  NaN   \n",
      "28251           NaN          NaN                   NaN                  NaN   \n",
      "28255          0.40            V                   NaN                  NaN   \n",
      "28260           NaN          NaN                   NaN                  NaN   \n",
      "28261           0.8            V            0.28, 0.32                A/cm2   \n",
      "\n",
      "      Cycles Value Cycles Unit  \n",
      "1             1000      cycles  \n",
      "2              NaN         NaN  \n",
      "6             8000      cycles  \n",
      "13            5000      cycles  \n",
      "20            1000      cycles  \n",
      "...            ...         ...  \n",
      "28239          200      cycles  \n",
      "28251         1000      cycles  \n",
      "28255          NaN         NaN  \n",
      "28260          NaN         NaN  \n",
      "28261          100      cycles  \n",
      "\n",
      "[3308 rows x 21 columns]\n"
     ]
    }
   ],
   "source": [
    "print(filtered_df)"
   ]
  },
  {
   "cell_type": "code",
   "execution_count": 37,
   "id": "468df1cb-83f9-441b-b76e-baf932ed5b16",
   "metadata": {},
   "outputs": [],
   "source": [
    "filtered_df.to_excel(\"mo_data.xlsx\", engine ='openpyxl', index = True)"
   ]
  },
  {
   "cell_type": "code",
   "execution_count": null,
   "id": "a8b3fa16-cfb8-4269-8225-b388a27cbcc5",
   "metadata": {},
   "outputs": [],
   "source": []
  }
 ],
 "metadata": {
  "kernelspec": {
   "display_name": "Python 3",
   "language": "python",
   "name": "python3"
  },
  "language_info": {
   "codemirror_mode": {
    "name": "ipython",
    "version": 3
   },
   "file_extension": ".py",
   "mimetype": "text/x-python",
   "name": "python",
   "nbconvert_exporter": "python",
   "pygments_lexer": "ipython3",
   "version": "3.10.14"
  }
 },
 "nbformat": 4,
 "nbformat_minor": 5
}
